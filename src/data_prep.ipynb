{
 "cells": [
  {
   "cell_type": "code",
   "execution_count": 3,
   "metadata": {},
   "outputs": [],
   "source": [
    "import pandas as pd\n",
    "import sys\n",
    "import shutil\n",
    "import tqdm"
   ]
  },
  {
   "cell_type": "code",
   "execution_count": 16,
   "metadata": {},
   "outputs": [],
   "source": [
    "df = pd.read_csv(\"jersey.csv\")"
   ]
  },
  {
   "cell_type": "code",
   "execution_count": 17,
   "metadata": {},
   "outputs": [
    {
     "data": {
      "text/html": [
       "<div>\n",
       "<style scoped>\n",
       "    .dataframe tbody tr th:only-of-type {\n",
       "        vertical-align: middle;\n",
       "    }\n",
       "\n",
       "    .dataframe tbody tr th {\n",
       "        vertical-align: top;\n",
       "    }\n",
       "\n",
       "    .dataframe thead th {\n",
       "        text-align: right;\n",
       "    }\n",
       "</style>\n",
       "<table border=\"1\" class=\"dataframe\">\n",
       "  <thead>\n",
       "    <tr style=\"text-align: right;\">\n",
       "      <th></th>\n",
       "      <th>filename</th>\n",
       "      <th>team</th>\n",
       "      <th>jersey_number</th>\n",
       "    </tr>\n",
       "  </thead>\n",
       "  <tbody>\n",
       "    <tr>\n",
       "      <th>0</th>\n",
       "      <td>Chelsea__Bournemouth/Chelsea__Bournemouth_1_0.png</td>\n",
       "      <td>0</td>\n",
       "      <td>5</td>\n",
       "    </tr>\n",
       "    <tr>\n",
       "      <th>1</th>\n",
       "      <td>Chelsea__Bournemouth/Chelsea__Bournemouth_2_0.png</td>\n",
       "      <td>0</td>\n",
       "      <td>5</td>\n",
       "    </tr>\n",
       "    <tr>\n",
       "      <th>2</th>\n",
       "      <td>Chelsea__Bournemouth/Chelsea__Bournemouth_3_0.png</td>\n",
       "      <td>0</td>\n",
       "      <td>5</td>\n",
       "    </tr>\n",
       "    <tr>\n",
       "      <th>3</th>\n",
       "      <td>Chelsea__Bournemouth/Chelsea__Bournemouth_4_0.png</td>\n",
       "      <td>0</td>\n",
       "      <td>5</td>\n",
       "    </tr>\n",
       "    <tr>\n",
       "      <th>4</th>\n",
       "      <td>Chelsea__Bournemouth/Chelsea__Bournemouth_5_0.png</td>\n",
       "      <td>0</td>\n",
       "      <td>5</td>\n",
       "    </tr>\n",
       "  </tbody>\n",
       "</table>\n",
       "</div>"
      ],
      "text/plain": [
       "                                            filename  team  jersey_number\n",
       "0  Chelsea__Bournemouth/Chelsea__Bournemouth_1_0.png     0              5\n",
       "1  Chelsea__Bournemouth/Chelsea__Bournemouth_2_0.png     0              5\n",
       "2  Chelsea__Bournemouth/Chelsea__Bournemouth_3_0.png     0              5\n",
       "3  Chelsea__Bournemouth/Chelsea__Bournemouth_4_0.png     0              5\n",
       "4  Chelsea__Bournemouth/Chelsea__Bournemouth_5_0.png     0              5"
      ]
     },
     "execution_count": 17,
     "metadata": {},
     "output_type": "execute_result"
    }
   ],
   "source": [
    "\n",
    "df = df.drop(columns=[\"num\"])\n",
    "df.head()"
   ]
  },
  {
   "cell_type": "code",
   "execution_count": 18,
   "metadata": {},
   "outputs": [],
   "source": [
    "filenames = df[\"filename\"].tolist()"
   ]
  },
  {
   "cell_type": "code",
   "execution_count": 19,
   "metadata": {},
   "outputs": [
    {
     "name": "stderr",
     "output_type": "stream",
     "text": [
      "100%|██████████| 5101/5101 [00:04<00:00, 1034.28it/s]\n"
     ]
    }
   ],
   "source": [
    "for file in tqdm.tqdm(filenames):\n",
    "    try:\n",
    "        shutil.copy(f\"ml_project_data/{file}\", f\"ml_project_data/dataset/{file.split('/')[-1]}\")\n",
    "    except Exception as e:\n",
    "        print(e)\n",
    "        print(file)"
   ]
  },
  {
   "cell_type": "code",
   "execution_count": 1,
   "metadata": {},
   "outputs": [],
   "source": [
    "from PIL import Image\n",
    "import os\n",
    "import random\n",
    "import matplotlib.pyplot as plt\n",
    "import numpy as np\n",
    "import torch\n",
    "import torchvision\n",
    "from torchvision.io import read_image\n",
    "import pandas as pd\n",
    "from torch.utils.data import DataLoader, Dataset, random_split\n",
    "import torchvision.transforms as transforms\n",
    "import tqdm\n",
    "import torch.nn as nn\n",
    "import torch.optim as optim\n",
    "import cv2\n",
    "import random"
   ]
  },
  {
   "cell_type": "code",
   "execution_count": 2,
   "metadata": {},
   "outputs": [],
   "source": [
    "class FootballCNN(nn.Module):\n",
    "    def __init__(self, num_classes=19):\n",
    "        super(FootballCNN, self).__init__()\n",
    "        self.conv_layers = nn.Sequential(\n",
    "            nn.Conv2d(in_channels=3, out_channels=16, kernel_size=3, stride=1, padding=1),\n",
    "            # result after conv2d is 16x64x64\n",
    "            nn.BatchNorm2d(num_features=16),\n",
    "            nn.ReLU(inplace=True),\n",
    "            nn.MaxPool2d(kernel_size=2, stride=2),\n",
    "            #result after maxpool is 16x32x32\n",
    "\n",
    "            nn.Conv2d(in_channels=16, out_channels=32, kernel_size=3, stride=1, padding=1),\n",
    "            # 32x32x32\n",
    "            nn.BatchNorm2d(num_features=32),\n",
    "            nn.ReLU(inplace=True),\n",
    "            nn.MaxPool2d(kernel_size=2, stride=2),\n",
    "            # 32x16x16\n",
    "\n",
    "\n",
    "            nn.Conv2d(in_channels=32, out_channels=64, kernel_size=3, stride=1, padding=1),\n",
    "            # 64x16x16\n",
    "            nn.BatchNorm2d(num_features=64),\n",
    "            nn.ReLU(inplace=True),\n",
    "            nn.MaxPool2d(kernel_size=2, stride=2),\n",
    "            # 64x8x8\n",
    "\n",
    "            nn.Conv2d(in_channels=64, out_channels=128, kernel_size=3, stride=1, padding=1),\n",
    "            #128x828\n",
    "            nn.BatchNorm2d(num_features=128),\n",
    "            nn.ReLU(inplace=True),\n",
    "            nn.MaxPool2d(kernel_size=2, stride=2)\n",
    "            #128x4x4\n",
    "         )\n",
    "        \n",
    "        self.fc_layers = nn.Sequential(\n",
    "            nn.Dropout(0.25),\n",
    "            nn.Linear(128 * 4 * 4, 1024),\n",
    "            nn.ReLU(inplace=True),\n",
    "            nn.Linear(1024, num_classes),\n",
    "            # nn.Softmax(dim=1),\n",
    "        )\n",
    "\n",
    "\n",
    "    def forward(self, x):\n",
    "        x = self.conv_layers(x)\n",
    "        x = x.view(x.size(0), -1)\n",
    "        x = self.fc_layers(x)\n",
    "        return x\n",
    "\n",
    "# device = torch.device('cuda' if torch.cuda.is_available() else 'cpu')\n",
    "device = torch.device(\"cpu\")\n",
    "model = FootballCNN(num_classes=100).to(device)\n",
    "\n",
    "criterion = nn.CrossEntropyLoss()\n",
    "optimizer = optim.Adam(model.parameters(), lr=0.001)\n"
   ]
  },
  {
   "cell_type": "code",
   "execution_count": 20,
   "metadata": {},
   "outputs": [
    {
     "data": {
      "text/plain": [
       "FootballCNN(\n",
       "  (conv_layers): Sequential(\n",
       "    (0): Conv2d(3, 16, kernel_size=(3, 3), stride=(1, 1), padding=(1, 1))\n",
       "    (1): BatchNorm2d(16, eps=1e-05, momentum=0.1, affine=True, track_running_stats=True)\n",
       "    (2): ReLU(inplace=True)\n",
       "    (3): MaxPool2d(kernel_size=2, stride=2, padding=0, dilation=1, ceil_mode=False)\n",
       "    (4): Conv2d(16, 32, kernel_size=(3, 3), stride=(1, 1), padding=(1, 1))\n",
       "    (5): BatchNorm2d(32, eps=1e-05, momentum=0.1, affine=True, track_running_stats=True)\n",
       "    (6): ReLU(inplace=True)\n",
       "    (7): MaxPool2d(kernel_size=2, stride=2, padding=0, dilation=1, ceil_mode=False)\n",
       "    (8): Conv2d(32, 64, kernel_size=(3, 3), stride=(1, 1), padding=(1, 1))\n",
       "    (9): BatchNorm2d(64, eps=1e-05, momentum=0.1, affine=True, track_running_stats=True)\n",
       "    (10): ReLU(inplace=True)\n",
       "    (11): MaxPool2d(kernel_size=2, stride=2, padding=0, dilation=1, ceil_mode=False)\n",
       "    (12): Conv2d(64, 128, kernel_size=(3, 3), stride=(1, 1), padding=(1, 1))\n",
       "    (13): BatchNorm2d(128, eps=1e-05, momentum=0.1, affine=True, track_running_stats=True)\n",
       "    (14): ReLU(inplace=True)\n",
       "    (15): MaxPool2d(kernel_size=2, stride=2, padding=0, dilation=1, ceil_mode=False)\n",
       "  )\n",
       "  (fc_layers): Sequential(\n",
       "    (0): Dropout(p=0.25, inplace=False)\n",
       "    (1): Linear(in_features=2048, out_features=1024, bias=True)\n",
       "    (2): ReLU(inplace=True)\n",
       "    (3): Linear(in_features=1024, out_features=100, bias=True)\n",
       "  )\n",
       ")"
      ]
     },
     "execution_count": 20,
     "metadata": {},
     "output_type": "execute_result"
    }
   ],
   "source": [
    "\n",
    "model.load_state_dict(torch.load(\"/Users/shevdan/Documents/Programming/ML/Player_recognition/models/jersey_model_1.pt\"))\n",
    "model.eval()"
   ]
  },
  {
   "cell_type": "code",
   "execution_count": 4,
   "metadata": {},
   "outputs": [],
   "source": [
    "device = torch.device(\"cpu\")\n",
    "model_team = FootballCNN(num_classes=2).to(device)\n"
   ]
  },
  {
   "cell_type": "code",
   "execution_count": 5,
   "metadata": {},
   "outputs": [
    {
     "data": {
      "text/plain": [
       "FootballCNN(\n",
       "  (conv_layers): Sequential(\n",
       "    (0): Conv2d(3, 16, kernel_size=(3, 3), stride=(1, 1), padding=(1, 1))\n",
       "    (1): BatchNorm2d(16, eps=1e-05, momentum=0.1, affine=True, track_running_stats=True)\n",
       "    (2): ReLU(inplace=True)\n",
       "    (3): MaxPool2d(kernel_size=2, stride=2, padding=0, dilation=1, ceil_mode=False)\n",
       "    (4): Conv2d(16, 32, kernel_size=(3, 3), stride=(1, 1), padding=(1, 1))\n",
       "    (5): BatchNorm2d(32, eps=1e-05, momentum=0.1, affine=True, track_running_stats=True)\n",
       "    (6): ReLU(inplace=True)\n",
       "    (7): MaxPool2d(kernel_size=2, stride=2, padding=0, dilation=1, ceil_mode=False)\n",
       "    (8): Conv2d(32, 64, kernel_size=(3, 3), stride=(1, 1), padding=(1, 1))\n",
       "    (9): BatchNorm2d(64, eps=1e-05, momentum=0.1, affine=True, track_running_stats=True)\n",
       "    (10): ReLU(inplace=True)\n",
       "    (11): MaxPool2d(kernel_size=2, stride=2, padding=0, dilation=1, ceil_mode=False)\n",
       "    (12): Conv2d(64, 128, kernel_size=(3, 3), stride=(1, 1), padding=(1, 1))\n",
       "    (13): BatchNorm2d(128, eps=1e-05, momentum=0.1, affine=True, track_running_stats=True)\n",
       "    (14): ReLU(inplace=True)\n",
       "    (15): MaxPool2d(kernel_size=2, stride=2, padding=0, dilation=1, ceil_mode=False)\n",
       "  )\n",
       "  (fc_layers): Sequential(\n",
       "    (0): Dropout(p=0.25, inplace=False)\n",
       "    (1): Linear(in_features=2048, out_features=1024, bias=True)\n",
       "    (2): ReLU(inplace=True)\n",
       "    (3): Linear(in_features=1024, out_features=2, bias=True)\n",
       "  )\n",
       ")"
      ]
     },
     "execution_count": 5,
     "metadata": {},
     "output_type": "execute_result"
    }
   ],
   "source": [
    "\n",
    "model_team.load_state_dict(torch.load(\"/Users/shevdan/Documents/Programming/ML/Player_recognition/models/team_model.pt\"))\n",
    "model_team.eval()"
   ]
  },
  {
   "cell_type": "code",
   "execution_count": 6,
   "metadata": {},
   "outputs": [],
   "source": [
    "def get_prediction(img_filename, model):\n",
    "    image = cv2.imread(img_filename)\n",
    "    if len(image.shape) > 2 and image.shape[2] == 4:\n",
    "    #convert the image from RGBA2RGB\n",
    "        image = cv2.cvtColor(image, cv2.COLOR_BGRA2RGB)\n",
    "    image = np.array(image)\n",
    "    print(image.shape)\n",
    "    transform = transforms.Compose([\n",
    "    transforms.ToPILImage(),\n",
    "    transforms.Resize((64, 64)),\n",
    "    transforms.ToTensor(),\n",
    "    ])\n",
    "    image = transform(image)\n",
    "    # print(image.shape)\n",
    "    image = image.reshape(-1, image.shape[0], image.shape[1], image.shape[2] )\n",
    "    \n",
    "    outputs = model(image)\n",
    "    print(outputs)\n",
    "    max_vals, predicted = torch.max(outputs.data, 1)\n",
    "    print(max_vals, predicted)\n",
    "    return predicted.item()\n"
   ]
  },
  {
   "cell_type": "code",
   "execution_count": 7,
   "metadata": {},
   "outputs": [],
   "source": [
    "def get_pred(img_arr, model):\n",
    "    transform = transforms.Compose([\n",
    "    transforms.ToPILImage(),\n",
    "    transforms.Resize((64, 64)),\n",
    "    transforms.ToTensor(),\n",
    "    ])\n",
    "    image = transform(img_arr)\n",
    "    \n",
    "    image = image.reshape(-1, image.shape[0], image.shape[1], image.shape[2] )\n",
    "    \n",
    "    outputs = model(image)\n",
    "    max_vals, predicted = torch.max(outputs.data, 1)\n",
    "    return max_vals.item(), predicted.item()"
   ]
  },
  {
   "cell_type": "code",
   "execution_count": 58,
   "metadata": {},
   "outputs": [],
   "source": [
    "def plot_one_box(x, img, color=None, label=None, line_thickness=1):\n",
    "\n",
    "    tl = line_thickness or round(0.002 * (img.shape[0] + img.shape[1]) / 2) + 1\n",
    "    color = color or [random.randint(0, 255) for _ in range(3)]\n",
    "    c1, c2 = (int(x[0]), int(x[1])), (int(x[2]), int(x[3]))\n",
    "    cv2.rectangle(img, c1, c2, color, thickness=tl, lineType=cv2.LINE_AA)\n",
    "    if label:\n",
    "        tf = max(tl - 1, 1)  \n",
    "        t_size = cv2.getTextSize(label, 0, fontScale=tl / 3, thickness=tf)[0]\n",
    "        c2 = c1[0] + t_size[0], c1[1] - t_size[1] - 3\n",
    "        cv2.rectangle(img, c1, c2, color, -1, cv2.LINE_AA) \n",
    "        cv2.putText(img, label, (c1[0], c1[1] - 2), 0, tl / 3, [225, 255, 255], thickness=tf, lineType=cv2.LINE_AA)\n"
   ]
  },
  {
   "cell_type": "code",
   "execution_count": null,
   "metadata": {},
   "outputs": [],
   "source": []
  },
  {
   "cell_type": "code",
   "execution_count": 24,
   "metadata": {},
   "outputs": [],
   "source": [
    "import json"
   ]
  },
  {
   "cell_type": "code",
   "execution_count": 57,
   "metadata": {},
   "outputs": [],
   "source": [
    "def classify_and_plot(img_path: str, xywh: list, model_jersey, model_team, data_dct):\n",
    "    team_corr = {\"0\": \"Chelsea\", \"1\": \"Man City\", \"\": \"\"}\n",
    "    img = cv2.imread(img_path)\n",
    "    imH, imW, _ = img.shape\n",
    "    \n",
    "    x_center, y_center, box_w, box_h, = xywh[0], xywh[1], xywh[2], xywh[3]\n",
    "    x_l, x_r = max(x_center - box_w // 2, 0), max(x_center + box_w //2, 0)\n",
    "    y_u, y_d = max(y_center + box_h // 2, 0), max(y_center - box_h // 2, 0)\n",
    "    if data_dct[\"to_classify\"]:\n",
    "        pil_img = Image.open(img_path)\n",
    "        pil_img = pil_img.crop((x_l, y_d, x_r, y_u))\n",
    "        jersey_conf, jersey_pred = get_pred(np.array(pil_img), model_jersey)\n",
    "        team_conf, team_pred = get_pred(np.array(pil_img), model_team)\n",
    "        # print(f\"{img_path}, JERSEY: {jersey_conf}; {jersey_pred}, TEAM: {team_conf}, {team_pred}\")\n",
    "        if jersey_conf > 5:\n",
    "            data_dct[\"to_classify\"] = False\n",
    "            data_dct[\"team\"] = str(team_pred)\n",
    "            data_dct[\"jersey\"] = str(jersey_pred)\n",
    "    # print(data_dct)\n",
    "    with open(\"/Users/shevdan/Documents/Programming/ML/Player_recognition/results/Premier League_stats_2023-03-02.json\") as jsonfile:\n",
    "            names = json.load(jsonfile)\n",
    "    # names[team_corr[str(data_dct['team'])]][str(data_dct['jersey'])]\n",
    "    label = \"\" if data_dct[\"to_classify\"] else f\"Team: {team_corr[str(data_dct['team'])]}. Name: {names[team_corr[str(data_dct['team'])]][str(data_dct['jersey'])]}. Stat: {data_dct['stats']}\"\n",
    "    # print(label)\n",
    "    plot_one_box([x_l, y_d, x_r, y_u], img, color=(255, 0, 0), label=label)\n",
    "    filename, ext = os.path.splitext(img_path.split('/')[-1])\n",
    "    bbx_dir_path = f\"{'/'.join(img_path.split('/')[:-2])}/{img_path.split('/')[-2]}_bbx\"\n",
    "    if not os.path.exists(bbx_dir_path):\n",
    "        os.mkdir(bbx_dir_path)\n",
    "    cv2.imwrite(f\"{bbx_dir_path}/{filename}_bbox{ext}\", img)\n",
    "    return data_dct\n",
    "\n",
    "    \n",
    "    \n",
    "    \n",
    "\n",
    "        \n"
   ]
  },
  {
   "cell_type": "code",
   "execution_count": 47,
   "metadata": {},
   "outputs": [
    {
     "name": "stdout",
     "output_type": "stream",
     "text": [
      "(1428, 1910, 1542, 1588)\n"
     ]
    }
   ],
   "source": [
    "data = {\n",
    "    \"to_classify\": False,\n",
    "    \"team\": \"\",\n",
    "    \"jersey\": \"\",\n",
    "    \"stats\": \"Some stats\"\n",
    "}\n",
    "classify_and_plot(\"/Users/shevdan/Documents/Programming/ML/Player_recognition/images/img2.png\", [0.388468, 0.882694, 0.0300732, 0.162967], model, model_team, data)"
   ]
  },
  {
   "cell_type": "code",
   "execution_count": 33,
   "metadata": {},
   "outputs": [],
   "source": [
    "vid_num = 2\n",
    "vid_folder_path = f\"/Users/shevdan/Documents/Programming/ML/Player_recognition/test_data/img/{vid_num}\"\n",
    "text_folders = f\"/Users/shevdan/Documents/Programming/ML/Player_recognition/yolov7/runs/detect_{vid_num}/exp\"\n",
    "img = cv2.imread(f\"{vid_folder_path}/1.png\")\n",
    "imH, imW, _ = img.shape"
   ]
  },
  {
   "cell_type": "code",
   "execution_count": 16,
   "metadata": {},
   "outputs": [],
   "source": [
    "import random"
   ]
  },
  {
   "cell_type": "code",
   "execution_count": null,
   "metadata": {},
   "outputs": [],
   "source": [
    "data = {\n",
    "    \"to_classify\": True,\n",
    "    \"team\": \"\",\n",
    "    \"jersey\": \"\",\n",
    "    \"stats\": \"Some stats\"\n",
    "}\n",
    "for i in range(len(os.listdir(vid_folder_path))):\n",
    "    bdnbxes = []\n",
    "    boxes_txt = f\"{text_folders}/labels/{i+1}.txt\" if i == 0 else f\"{text_folders}{i+1}/labels/{i+1}.txt\"\n",
    "    with open(boxes_txt, mode=\"r\") as labels:\n",
    "        for line in labels:\n",
    "            box = line.strip().split()\n",
    "            if box[0] != \"0\":\n",
    "                continue\n",
    "            xywh = [float(coord) for coord in box[1:]]\n",
    "            bdnbxes.append( [int(xywh[0] * imW), int(xywh[1] * imH), int(xywh[2] * imW), int(xywh[3] * imH)])\n",
    "    \n",
    "    if i == 0:\n",
    "        # chosen_dude = random.choice(bdnbxes)\n",
    "        chosen_dude = bdnbxes[7]\n",
    "    else:\n",
    "        bdnbxes.sort(key=lambda x: ((x[0] - chosen_dude[0]) ** 2 + (x[1] - chosen_dude[1])**2))\n",
    "        chosen_dude = bdnbxes[0]\n",
    "            \n",
    "    data = classify_and_plot(f\"{vid_folder_path}/{i + 1}.png\", chosen_dude, model, model_team, data)\n",
    "\n"
   ]
  }
 ],
 "metadata": {
  "kernelspec": {
   "display_name": "Python 3",
   "language": "python",
   "name": "python3"
  },
  "language_info": {
   "codemirror_mode": {
    "name": "ipython",
    "version": 3
   },
   "file_extension": ".py",
   "mimetype": "text/x-python",
   "name": "python",
   "nbconvert_exporter": "python",
   "pygments_lexer": "ipython3",
   "version": "3.10.0"
  },
  "orig_nbformat": 4
 },
 "nbformat": 4,
 "nbformat_minor": 2
}
